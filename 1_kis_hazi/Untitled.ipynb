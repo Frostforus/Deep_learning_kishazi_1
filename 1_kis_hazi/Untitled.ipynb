{
 "cells": [
  {
   "cell_type": "code",
   "execution_count": 1,
   "metadata": {},
   "outputs": [],
   "source": [
    "import numpy as np\n",
    "from PIL import Image\n",
    "import os\n",
    "import matplotlib.pyplot as plt\n",
    "import librosa, librosa.display\n",
    "from glob2 import glob\n",
    "from scipy import signal\n",
    "from scipy.io import wavfile"
   ]
  },
  {
   "cell_type": "markdown",
   "metadata": {},
   "source": [
    "# Steps:\n",
    "1.  Created the conda environment on my machine.\n",
    "2.  Installed numpy and pillow and matplotlib.\n",
    "3.  Created 5 coloured images on the cited pixel art creator.\n",
    "4.  Downloaded the images into the \"pictures\" directory named: \"Pixel_Art_0\" ... \"Pixel_Art_4\" (I made this myself, as I am an artist).\n",
    "5.  Put the images' pixel information into numpy arrays, then plotted them with matplotlib.\n",
    "6.  Calculated the average and standard deviation for each picture, then manipulated them to have an average of 0 (close to it anyway...) and a standard deviation of 1.\n",
    "7.  Installed scipy and librosa (I tried both).\n",
    "8.  Downloaded a free audio sample from soundcloud as clang.wav (I tried it with the bruh_sound_effect but it was too short for it to be useful)\n",
    "9.  Plotted the spectrogram with matplotlib\n",
    "10. Downloaded the \"https://en.wikipedia.org/wiki/Deep_learning\" webpages text.\n",
    "11. Removed removed all non-letters from the text, and converted it all to lower case, and sorted the dictionary to in alphabetical order.\n",
    "12. Plotted the resulting dictionary with matplot lib. (I am not sure about this last part because I used bar() so it's not a histogram per se)\n",
    "13. Added comments and documentation (fun read 5/7)."
   ]
  },
  {
   "cell_type": "markdown",
   "metadata": {},
   "source": [
    "## Pixel art creator:\n",
    "http://pixelartmaker.com/offshoot/c0346ba1d488d5a"
   ]
  },
  {
   "cell_type": "markdown",
   "metadata": {},
   "source": [
    "# 1st Task:\n"
   ]
  },
  {
   "cell_type": "markdown",
   "metadata": {},
   "source": [
    "###  Importing first image:"
   ]
  },
  {
   "cell_type": "code",
   "execution_count": 2,
   "metadata": {},
   "outputs": [
    {
     "name": "stdout",
     "output_type": "stream",
     "text": [
      "PNG\n",
      "(128, 128)\n",
      "RGBA\n"
     ]
    }
   ],
   "source": [
    "# Open the image from working directory\n",
    "test_image = Image.open('pictures/pixel_art_0.png')\n",
    "# summarize some details about the image\n",
    "print(test_image.format)\n",
    "print(test_image.size)\n",
    "print(test_image.mode)\n",
    "# show the image\n",
    "##image.show()"
   ]
  },
  {
   "cell_type": "markdown",
   "metadata": {},
   "source": [
    "### Converting to a numpy array:"
   ]
  },
  {
   "cell_type": "code",
   "execution_count": 3,
   "metadata": {},
   "outputs": [
    {
     "name": "stdout",
     "output_type": "stream",
     "text": [
      "<class 'numpy.ndarray'>\n",
      "(128, 128, 4)\n"
     ]
    }
   ],
   "source": [
    "# Testing first\n",
    "data = np.asarray(test_image)\n",
    "\n",
    "print(type(data))\n",
    "\n",
    "print(data.shape)\n",
    "\n",
    "##print(data)"
   ]
  },
  {
   "cell_type": "markdown",
   "metadata": {},
   "source": [
    "# Dynamic load from directory\n"
   ]
  },
  {
   "cell_type": "code",
   "execution_count": 4,
   "metadata": {},
   "outputs": [
    {
     "name": "stdout",
     "output_type": "stream",
     "text": [
      "pixel_art_0.png: \n",
      "<class 'numpy.ndarray'>\n",
      "(128, 128, 3)\n",
      "[[[ 30 199 250]\n",
      "  [ 30 199 250]\n",
      "  [ 30 199 250]\n",
      "  ...\n",
      "  [ 30 199 250]\n",
      "  [ 30 199 250]\n",
      "  [ 30 199 250]]\n",
      "\n",
      " [[ 30 199 250]\n",
      "  [ 30 199 250]\n",
      "  [108 250   0]\n",
      "  ...\n",
      "  [108 250   0]\n",
      "  [ 30 199 250]\n",
      "  [ 30 199 250]]\n",
      "\n",
      " [[ 30 199 250]\n",
      "  [250  15  15]\n",
      "  [ 30 199 250]\n",
      "  ...\n",
      "  [ 30 199 250]\n",
      "  [242 250   0]\n",
      "  [ 30 199 250]]\n",
      "\n",
      " ...\n",
      "\n",
      " [[ 30 199 250]\n",
      "  [250  15  15]\n",
      "  [ 30 199 250]\n",
      "  ...\n",
      "  [ 30 199 250]\n",
      "  [242 250   0]\n",
      "  [ 30 199 250]]\n",
      "\n",
      " [[ 30 199 250]\n",
      "  [ 30 199 250]\n",
      "  [ 17   0 250]\n",
      "  ...\n",
      "  [ 17   0 250]\n",
      "  [ 30 199 250]\n",
      "  [ 30 199 250]]\n",
      "\n",
      " [[ 30 199 250]\n",
      "  [ 30 199 250]\n",
      "  [ 30 199 250]\n",
      "  ...\n",
      "  [ 30 199 250]\n",
      "  [ 30 199 250]\n",
      "  [ 30 199 250]]]\n",
      "\n",
      "pixel_art_1.png: \n",
      "<class 'numpy.ndarray'>\n",
      "(128, 128, 3)\n",
      "[[[250  75 198]\n",
      "  [250  75 198]\n",
      "  [250  75 198]\n",
      "  ...\n",
      "  [250  75 198]\n",
      "  [250  75 198]\n",
      "  [250  75 198]]\n",
      "\n",
      " [[250  75 198]\n",
      "  [250  75 198]\n",
      "  [108 250   0]\n",
      "  ...\n",
      "  [108 250   0]\n",
      "  [250  75 198]\n",
      "  [250  75 198]]\n",
      "\n",
      " [[250  75 198]\n",
      "  [250  15  15]\n",
      "  [ 30 199 250]\n",
      "  ...\n",
      "  [ 30 199 250]\n",
      "  [242 250   0]\n",
      "  [250  75 198]]\n",
      "\n",
      " ...\n",
      "\n",
      " [[250  75 198]\n",
      "  [250  15  15]\n",
      "  [ 30 199 250]\n",
      "  ...\n",
      "  [ 30 199 250]\n",
      "  [242 250   0]\n",
      "  [250  75 198]]\n",
      "\n",
      " [[250  75 198]\n",
      "  [250  75 198]\n",
      "  [ 17   0 250]\n",
      "  ...\n",
      "  [ 17   0 250]\n",
      "  [250  75 198]\n",
      "  [250  75 198]]\n",
      "\n",
      " [[250  75 198]\n",
      "  [250  75 198]\n",
      "  [250  75 198]\n",
      "  ...\n",
      "  [250  75 198]\n",
      "  [250  75 198]\n",
      "  [250  75 198]]]\n",
      "\n",
      "pixel_art_2.png: \n",
      "<class 'numpy.ndarray'>\n",
      "(128, 128, 3)\n",
      "[[[250 250 250]\n",
      "  [250 250 250]\n",
      "  [250 250 250]\n",
      "  ...\n",
      "  [250 250 250]\n",
      "  [250 250 250]\n",
      "  [250 250 250]]\n",
      "\n",
      " [[250 250 250]\n",
      "  [250 250 250]\n",
      "  [108 250   0]\n",
      "  ...\n",
      "  [108 250   0]\n",
      "  [250 250 250]\n",
      "  [250 250 250]]\n",
      "\n",
      " [[250 250 250]\n",
      "  [250  15  15]\n",
      "  [ 30 199 250]\n",
      "  ...\n",
      "  [ 30 199 250]\n",
      "  [242 250   0]\n",
      "  [250 250 250]]\n",
      "\n",
      " ...\n",
      "\n",
      " [[250 250 250]\n",
      "  [250  15  15]\n",
      "  [ 30 199 250]\n",
      "  ...\n",
      "  [ 30 199 250]\n",
      "  [242 250   0]\n",
      "  [250 250 250]]\n",
      "\n",
      " [[250 250 250]\n",
      "  [250 250 250]\n",
      "  [ 17   0 250]\n",
      "  ...\n",
      "  [ 17   0 250]\n",
      "  [250 250 250]\n",
      "  [250 250 250]]\n",
      "\n",
      " [[250 250 250]\n",
      "  [250 250 250]\n",
      "  [250 250 250]\n",
      "  ...\n",
      "  [250 250 250]\n",
      "  [250 250 250]\n",
      "  [250 250 250]]]\n",
      "\n",
      "pixel_art_3.png: \n",
      "<class 'numpy.ndarray'>\n",
      "(128, 128, 3)\n",
      "[[[ 35 250  64]\n",
      "  [ 35 250  64]\n",
      "  [ 35 250  64]\n",
      "  ...\n",
      "  [ 35 250  64]\n",
      "  [ 35 250  64]\n",
      "  [ 35 250  64]]\n",
      "\n",
      " [[ 35 250  64]\n",
      "  [ 35 250  64]\n",
      "  [108 250   0]\n",
      "  ...\n",
      "  [108 250   0]\n",
      "  [ 35 250  64]\n",
      "  [ 35 250  64]]\n",
      "\n",
      " [[ 35 250  64]\n",
      "  [250  15  15]\n",
      "  [ 30 199 250]\n",
      "  ...\n",
      "  [ 30 199 250]\n",
      "  [242 250   0]\n",
      "  [ 35 250  64]]\n",
      "\n",
      " ...\n",
      "\n",
      " [[ 35 250  64]\n",
      "  [250  15  15]\n",
      "  [ 30 199 250]\n",
      "  ...\n",
      "  [ 30 199 250]\n",
      "  [242 250   0]\n",
      "  [ 35 250  64]]\n",
      "\n",
      " [[ 35 250  64]\n",
      "  [ 35 250  64]\n",
      "  [ 17   0 250]\n",
      "  ...\n",
      "  [ 17   0 250]\n",
      "  [ 35 250  64]\n",
      "  [ 35 250  64]]\n",
      "\n",
      " [[ 35 250  64]\n",
      "  [ 35 250  64]\n",
      "  [ 35 250  64]\n",
      "  ...\n",
      "  [ 35 250  64]\n",
      "  [ 35 250  64]\n",
      "  [ 35 250  64]]]\n",
      "\n",
      "pixel_art_4.png: \n",
      "<class 'numpy.ndarray'>\n",
      "(128, 128, 3)\n",
      "[[[  0   0   0]\n",
      "  [  0   0   0]\n",
      "  [  0   0   0]\n",
      "  ...\n",
      "  [  0   0   0]\n",
      "  [  0   0   0]\n",
      "  [  0   0   0]]\n",
      "\n",
      " [[  0   0   0]\n",
      "  [  0   0   0]\n",
      "  [108 250   0]\n",
      "  ...\n",
      "  [108 250   0]\n",
      "  [  0   0   0]\n",
      "  [  0   0   0]]\n",
      "\n",
      " [[  0   0   0]\n",
      "  [250  15  15]\n",
      "  [ 30 199 250]\n",
      "  ...\n",
      "  [ 30 199 250]\n",
      "  [242 250   0]\n",
      "  [  0   0   0]]\n",
      "\n",
      " ...\n",
      "\n",
      " [[  0   0   0]\n",
      "  [250  15  15]\n",
      "  [ 30 199 250]\n",
      "  ...\n",
      "  [ 30 199 250]\n",
      "  [242 250   0]\n",
      "  [  0   0   0]]\n",
      "\n",
      " [[  0   0   0]\n",
      "  [  0   0   0]\n",
      "  [ 17   0 250]\n",
      "  ...\n",
      "  [ 17   0 250]\n",
      "  [  0   0   0]\n",
      "  [  0   0   0]]\n",
      "\n",
      " [[  0   0   0]\n",
      "  [  0   0   0]\n",
      "  [  0   0   0]\n",
      "  ...\n",
      "  [  0   0   0]\n",
      "  [  0   0   0]\n",
      "  [  0   0   0]]]\n",
      "\n"
     ]
    }
   ],
   "source": [
    "# array of numpy arrays\n",
    "image_array = []\n",
    "\n",
    "# For every picture in the pictures directory\n",
    "for pixel_art in os.listdir('pictures'):\n",
    "    \n",
    "    # Load single image, while converting to RGB so we only have 3 dimensions as we don't need an alpha value\n",
    "    temp_image = Image.open('pictures/' + pixel_art).convert('RGB')\n",
    "    \n",
    "    # Convert to a numpy array\n",
    "    temp_data = np.asarray(temp_image)\n",
    "    \n",
    "    # Add numpy array of the \n",
    "    image_array.append(temp_data)\n",
    "    \n",
    "    # Every piece of code is beautiful and useful...:\n",
    "    print(pixel_art + \": \")\n",
    "    \n",
    "    # Checking Type\n",
    "    print(type(temp_data))\n",
    "    \n",
    "    # Checking Shape\n",
    "    print(temp_data.shape)\n",
    "    \n",
    "    # Printing the numpy array to check its contents\n",
    "    print(temp_data)\n",
    "    \n",
    "    # Fromage, I mean format:\n",
    "    print()"
   ]
  },
  {
   "cell_type": "code",
   "execution_count": 5,
   "metadata": {},
   "outputs": [
    {
     "data": {
      "image/png": "[encoded data removed]",
      "text/plain": [
       "<Figure size 432x288 with 5 Axes>"
      ]
     },
     "metadata": {
      "needs_background": "light"
     },
     "output_type": "display_data"
    }
   ],
   "source": [
    "# Dimensions of the loaded pictures (128 * 128)\n",
    "width = 128\n",
    "height = 128\n",
    "\n",
    "# Plot them next to each other (single row), and we have 5 pictures, this could be dynamic too len(image_array) TODO! \n",
    "rows = 1\n",
    "cols = 5\n",
    "\n",
    "# Creating a fig so we can have subplots\n",
    "fig=plt.figure()\n",
    "\n",
    "# Iterate over all the loaded pictures\n",
    "counter = 0\n",
    "for i in range(1, cols * rows + 1):\n",
    "    # Add a single image to a new subplot\n",
    "    img = image_array[counter]\n",
    "    fig.add_subplot(rows, cols, i)\n",
    "    plt.imshow(img)\n",
    "    counter = counter + 1\n",
    "\n",
    "# Show the fig figure with all the subplots\n",
    "fig.tight_layout()    \n",
    "plt.show()"
   ]
  },
  {
   "cell_type": "markdown",
   "metadata": {},
   "source": [
    "# 2nd task\n",
    "## Finding the average and standard deviation of each picture then moving them to 0 and 1 respectively"
   ]
  },
  {
   "cell_type": "code",
   "execution_count": 6,
   "metadata": {},
   "outputs": [
    {
     "name": "stdout",
     "output_type": "stream",
     "text": [
      "[[ 20  20  20]\n",
      " [ 30  40  50]\n",
      " [100 100 100]\n",
      " [100 100 100]]\n",
      "[62.5 65.  67.5]\n"
     ]
    }
   ],
   "source": [
    "# Testing testing 1, 2, 3...\n",
    "a = np.array([[20,20,20],[30,40,50],[100,100,100],[100,100,100]])\n",
    "print(a)\n",
    "print(a.mean(axis=0))"
   ]
  },
  {
   "cell_type": "code",
   "execution_count": 7,
   "metadata": {},
   "outputs": [
    {
     "name": "stdout",
     "output_type": "stream",
     "text": [
      "0. pic. :\n",
      "Red avg: 111.5390625\n",
      "Red standard deviation: 98.44548795714861\n",
      "Green avg: 152.8984375\n",
      "Green standard deviation:103.82503610670499\n",
      "Blue avg: 129.4140625\n",
      "Blue standard deviation:122.58546300335163\n",
      "\n",
      "1. pic. :\n",
      "Red avg: 184.9898681640625\n",
      "Red standard deviation: 94.41877745975287\n",
      "Green avg: 101.1617431640625\n",
      "Green standard deviation:99.66757900626057\n",
      "Blue avg: 109.1502685546875\n",
      "Blue standard deviation:109.43131475429536\n",
      "\n",
      "2. pic. :\n",
      "Red avg: 199.7509765625\n",
      "Red standard deviation: 88.02159685394375\n",
      "Green avg: 129.678955078125\n",
      "Green standard deviation:118.78694462918821\n",
      "Blue avg: 113.902587890625\n",
      "Blue standard deviation:122.27279295339227\n",
      "\n",
      "3. pic. :\n",
      "Red avg: 123.4111328125\n",
      "Red standard deviation: 103.57611045656468\n",
      "Green avg: 148.52325439453125\n",
      "Green standard deviation:116.93566303029499\n",
      "Blue avg: 69.32373046875\n",
      "Blue standard deviation:84.82733962123541\n",
      "\n",
      "4. pic. :\n",
      "Red avg: 87.0062255859375\n",
      "Red standard deviation: 111.75155150153348\n",
      "Green avg: 57.01318359375\n",
      "Green standard deviation:99.04950290340486\n",
      "Blue avg: 51.557373046875\n",
      "Blue standard deviation:98.07222346298731\n",
      "\n"
     ]
    }
   ],
   "source": [
    "# To help with labeling in the output\n",
    "x = 0\n",
    "\n",
    "# Iterate over all the pictures in our array of numpy arrays (pictures)\n",
    "for i in image_array:\n",
    "    # Slicing the array into the 3 dimensions: red, green, blue \n",
    "    red = i[:,:,0]\n",
    "    green = i[:,:,1]\n",
    "    blue = i[:,:,2]\n",
    "    \n",
    "    # Label for each picture\n",
    "    print(str(x) + \". pic. :\")\n",
    "    x += 1\n",
    "    \n",
    "    # The average value of red\n",
    "    print(\"Red avg: \" + str(np.mean(np.mean(red, axis=1))))\n",
    "    \n",
    "    # The standard deviation of red\n",
    "    print(\"Red standard deviation: \" + str(np.std(red)))\n",
    "    \n",
    "    \n",
    "    # The average value of green\n",
    "    print(\"Green avg: \" + str(np.mean(np.mean(green, axis=1))))\n",
    "    \n",
    "    # The standard deviation of green\n",
    "    print(\"Green standard deviation:\" + str(np.std(green)))\n",
    "    \n",
    "    \n",
    "    # The average value of blue\n",
    "    print(\"Blue avg: \" + str(np.mean(np.mean(blue, axis=1))))\n",
    "    \n",
    "    # The standard deviation of blue\n",
    "    print(\"Blue standard deviation:\" + str(np.std(blue)))\n",
    "    \n",
    "    # Print a line for \"clarity\"\n",
    "    print()\n"
   ]
  },
  {
   "cell_type": "markdown",
   "metadata": {},
   "source": [
    "### Moving the average to 0 and changin the standard deviation to 1"
   ]
  },
  {
   "cell_type": "code",
   "execution_count": 8,
   "metadata": {},
   "outputs": [],
   "source": [
    "# Creating three new arrays, so we don't have to worry about reruns, this was only important while working on it.\n",
    "# These arrays will have an average of 0 and a standard deviation of 1!\n",
    "reds = []\n",
    "greens = []\n",
    "blues = []\n",
    "\n",
    "# Iterate over all the pictures in our array of numpy arrays (pictures) (AGAIN!!!)\n",
    "for i in image_array:\n",
    "    # Calculate the new values of the reds in each picture\n",
    "    red = i[:,:,0]\n",
    "    # Subtract the average then divide by the standard deviation\n",
    "    red = (red - np.mean(np.mean(red, axis=1))) / np.std(red)\n",
    "    \n",
    "    green = i[:,:,1]\n",
    "    # Subtract the average then divide by the standard deviation\n",
    "    green = (green - np.mean(np.mean(green, axis=1))) / np.std(green)\n",
    "    \n",
    "    blue = i[:,:,2]\n",
    "    # Subtract the average then divide by the standard deviation\n",
    "    blue = (blue - np.mean(np.mean(blue, axis=1))) / np.std(blue)\n",
    "    \n",
    "    \n",
    "    # Put the modified values into the \"reds\" array\n",
    "    reds.append(red)\n",
    "    \n",
    "    # Put the modified values into the \"greens\" array\n",
    "    greens.append(green)\n",
    "    \n",
    "    # Put the modified values into the \"blues\" array\n",
    "    blues.append(blue)\n",
    "    "
   ]
  },
  {
   "cell_type": "markdown",
   "metadata": {},
   "source": [
    "# Checking the outcome!\n",
    "### The outcomes show that I was successful, the average isn't EXACTLY 0 because of numerical errors, but I think 10^-17 is close enough to 0 in this context..."
   ]
  },
  {
   "cell_type": "code",
   "execution_count": 9,
   "metadata": {},
   "outputs": [
    {
     "name": "stdout",
     "output_type": "stream",
     "text": [
      "0. images reds:\n",
      "1.3877787807814457e-17\n",
      "1.0\n",
      "\n",
      "0. images greens:\n",
      "1.3877787807814457e-16\n",
      "1.0\n",
      "\n",
      "0. images blues:\n",
      "-1.1102230246251565e-16\n",
      "0.9999999999999999\n",
      "-----------\n",
      "1. images reds:\n",
      "3.8163916471489756e-17\n",
      "1.0\n",
      "\n",
      "1. images greens:\n",
      "4.5102810375396984e-17\n",
      "1.0\n",
      "\n",
      "1. images blues:\n",
      "1.0061396160665481e-16\n",
      "1.0\n",
      "-----------\n",
      "2. images reds:\n",
      "-1.214306433183765e-17\n",
      "1.0\n",
      "\n",
      "2. images greens:\n",
      "-2.42861286636753e-17\n",
      "0.9999999999999999\n",
      "\n",
      "2. images blues:\n",
      "6.245004513516506e-17\n",
      "1.0\n",
      "-----------\n",
      "3. images reds:\n",
      "-2.7755575615628914e-17\n",
      "1.0\n",
      "\n",
      "3. images greens:\n",
      "-6.245004513516506e-17\n",
      "0.9999999999999999\n",
      "\n",
      "3. images blues:\n",
      "-6.591949208711867e-17\n",
      "1.0\n",
      "-----------\n",
      "4. images reds:\n",
      "-2.0816681711721685e-17\n",
      "1.0\n",
      "\n",
      "4. images greens:\n",
      "2.7755575615628914e-17\n",
      "0.9999999999999999\n",
      "\n",
      "4. images blues:\n",
      "4.336808689942018e-17\n",
      "1.0\n",
      "-----------\n"
     ]
    }
   ],
   "source": [
    "# Calculate the average and the standard deviation again for the new numpy arrays, it's not pretty but it seems to work...\n",
    "for i in range(0,len(reds)):\n",
    "    print(str(i) + \". images reds:\")\n",
    "    print(np.average(reds[i]))\n",
    "    print(np.std(reds[i]))\n",
    "    print()\n",
    "    \n",
    "    print(str(i) + \". images greens:\")\n",
    "    print(np.average(greens[i]))\n",
    "    print(np.std(greens[i]))\n",
    "    print()\n",
    "    \n",
    "    print(str(i) + \". images blues:\")\n",
    "    print(np.average(blues[i]))\n",
    "    print(np.std(blues[i]))\n",
    "    print(\"-----------\")"
   ]
  },
  {
   "cell_type": "markdown",
   "metadata": {},
   "source": [
    "# 3rd Task\n",
    "## Audio input and spectogram output\n",
    "\n",
    "##### Generous audio donor: https://soundcloud.com/suede-wolf/somber"
   ]
  },
  {
   "cell_type": "code",
   "execution_count": 10,
   "metadata": {},
   "outputs": [
    {
     "name": "stdout",
     "output_type": "stream",
     "text": [
      "No. of .wav files in audio folder =  1\n"
     ]
    },
    {
     "data": {
      "text/plain": [
       "['clang.wav']"
      ]
     },
     "execution_count": 10,
     "metadata": {},
     "output_type": "execute_result"
    }
   ],
   "source": [
    "# Specifying the path to the audio file\n",
    "# This could later be used for more than one file\n",
    "audio_fpath = \"audio/\"\n",
    "audio_clips = os.listdir(audio_fpath)\n",
    "\n",
    "#Checking number of files in the directory\n",
    "print(\"No. of .wav files in audio folder = \",len(audio_clips))\n",
    "\n",
    "# Printing the names of the files in the directory\n",
    "audio_clips"
   ]
  },
  {
   "cell_type": "code",
   "execution_count": 11,
   "metadata": {},
   "outputs": [],
   "source": [
    "# Load the audio file\n",
    "\n",
    "sampling_rate,signal_data= wavfile.read(audio_fpath+audio_clips[0])\n",
    "\n",
    "# Making the data mono, if we don't do this we will have (VERY) frustrating problems...\n",
    "signal_data = signal_data[:,0]"
   ]
  },
  {
   "cell_type": "code",
   "execution_count": 12,
   "metadata": {},
   "outputs": [
    {
     "data": {
      "image/png": "[encoded data removed]",
      "text/plain": [
       "<Figure size 432x288 with 1 Axes>"
      ]
     },
     "metadata": {
      "needs_background": "light"
     },
     "output_type": "display_data"
    }
   ],
   "source": [
    "# Plotting this for some reason\n",
    "plt.plot(signal_data)\n",
    "plt.show()"
   ]
  },
  {
   "cell_type": "code",
   "execution_count": 13,
   "metadata": {},
   "outputs": [
    {
     "data": {
      "image/png": "[encoded data removed]",
      "text/plain": [
       "<Figure size 432x288 with 1 Axes>"
      ]
     },
     "metadata": {
      "needs_background": "light"
     },
     "output_type": "display_data"
    }
   ],
   "source": [
    "# Plotting the spectrogram\n",
    "plt.specgram(signal_data, sampling_rate)\n",
    "plt.show()"
   ]
  },
  {
   "cell_type": "markdown",
   "metadata": {},
   "source": [
    "# 4. Task:\n",
    "### Load text from the deep learning wikipedia page"
   ]
  },
  {
   "cell_type": "code",
   "execution_count": 14,
   "metadata": {},
   "outputs": [],
   "source": [
    "# This makes it easy\n",
    "import wikipedia"
   ]
  },
  {
   "cell_type": "code",
   "execution_count": 15,
   "metadata": {},
   "outputs": [],
   "source": [
    "# Scraping the page we didn't really need the \"https://en.wikipedia.org/wiki/Deep_learning\" URL\n",
    "wiki = wikipedia.page('Deep learning')"
   ]
  },
  {
   "cell_type": "code",
   "execution_count": 16,
   "metadata": {},
   "outputs": [],
   "source": [
    "# loaded the content into the \"text\" string\n",
    "text = wiki.content\n",
    "\n",
    "# Using regex to filter out non-Alphabetical values\n",
    "import re\n",
    "\n",
    "# Creating the regular expression (All upper and lower case letters (we could have used text.lower here instead, but this works too))\n",
    "regex = re.compile('[^a-zA-Z]')\n",
    "\n",
    "# Running the filter on \"text\"\n",
    "text = regex.sub('', text)"
   ]
  },
  {
   "cell_type": "code",
   "execution_count": 17,
   "metadata": {},
   "outputs": [
    {
     "data": {
      "text/plain": [
       "{'a': 3291,\n",
       " 'b': 466,\n",
       " 'c': 1449,\n",
       " 'd': 1446,\n",
       " 'e': 4710,\n",
       " 'f': 749,\n",
       " 'g': 959,\n",
       " 'h': 1280,\n",
       " 'i': 2909,\n",
       " 'j': 28,\n",
       " 'k': 241,\n",
       " 'l': 1631,\n",
       " 'm': 1039,\n",
       " 'n': 3163,\n",
       " 'o': 2547,\n",
       " 'p': 1002,\n",
       " 'q': 24,\n",
       " 'r': 2539,\n",
       " 's': 2368,\n",
       " 't': 3166,\n",
       " 'u': 994,\n",
       " 'v': 388,\n",
       " 'w': 462,\n",
       " 'x': 96,\n",
       " 'y': 529,\n",
       " 'z': 67}"
      ]
     },
     "execution_count": 17,
     "metadata": {},
     "output_type": "execute_result"
    }
   ],
   "source": [
    "# from string import ascii_lowercase //oops don't need this\n",
    "\n",
    "# Import Counter from collections to count individual letters\n",
    "from collections import Counter\n",
    "\n",
    "# Convert the text to lower and count the letters\n",
    "c = Counter(text.lower())\n",
    "\n",
    "# Sort the dictionary's keys alphabetically\n",
    "c_sorted = sorted(c)\n",
    "\n",
    "# Used for checking it needs to be in a print since it's not on the last line of this cell\n",
    "c_sorted\n",
    "\n",
    "# Create a new empty dictionary\n",
    "sorted_dict = {}\n",
    "\n",
    "# Adding the values to the sorted dictionary\n",
    "for key in c_sorted:\n",
    "    sorted_dict[key] = c[key]\n",
    "    \n",
    "# This probably exists oops...^^^\n",
    "\n",
    "# Print the sorted dictionary\n",
    "sorted_dict"
   ]
  },
  {
   "cell_type": "markdown",
   "metadata": {},
   "source": [
    "## Plotting the data onto a graph"
   ]
  },
  {
   "cell_type": "code",
   "execution_count": 18,
   "metadata": {},
   "outputs": [
    {
     "data": {
      "image/png": "[encoded data removed]",
      "text/plain": [
       "<Figure size 432x288 with 1 Axes>"
      ]
     },
     "metadata": {
      "needs_background": "light"
     },
     "output_type": "display_data"
    }
   ],
   "source": [
    "# Tried this but I couldn't find a solution to plat a histogram from a dictionary so i looked for another solution.\n",
    "plt.hist(sorted_dict,bins = 26)\n",
    "plt.show()\n",
    "# Looking back this obviously doesn't work lol"
   ]
  },
  {
   "cell_type": "code",
   "execution_count": 19,
   "metadata": {},
   "outputs": [
    {
     "data": {
      "image/png": "[encoded data removed]",
      "text/plain": [
       "<Figure size 432x288 with 1 Axes>"
      ]
     },
     "metadata": {
      "needs_background": "light"
     },
     "output_type": "display_data"
    }
   ],
   "source": [
    "# I found this way to show the occurance of the letters\n",
    "plt.bar(list(sorted_dict.keys()), sorted_dict.values(), color='g')\n",
    "plt.show()"
   ]
  },
  {
   "cell_type": "markdown",
   "metadata": {},
   "source": [
    "# End of the first \"small\" homework.\n",
    "\n",
    "## It helped me scrape some of my rust with python, and I haven't really used numpy/matplotlib much more than this before so a refresher was great!\n",
    "\n",
    "\n",
    "###### Disclaimer: If the comments/documentation were too informal, let me know, I'll be more boring next time!"
   ]
  }
 ],
 "metadata": {
  "kernelspec": {
   "display_name": "Python 3",
   "language": "python",
   "name": "python3"
  },
  "language_info": {
   "codemirror_mode": {
    "name": "ipython",
    "version": 3
   },
   "file_extension": ".py",
   "mimetype": "text/x-python",
   "name": "python",
   "nbconvert_exporter": "python",
   "pygments_lexer": "ipython3",
   "version": "3.7.9"
  }
 },
 "nbformat": 4,
 "nbformat_minor": 4
}
